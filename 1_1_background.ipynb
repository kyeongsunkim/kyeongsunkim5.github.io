{
 "cells": [
  {
   "cell_type": "markdown",
   "id": "3a35b910",
   "metadata": {},
   "source": [
    "# Background\n",
    "\n",
    "## Limitations of the Centrifuge Test\n",
    "\n",
    "\n",
    "## Failures due to scour"
   ]
  }
 ],
 "metadata": {
  "kernelspec": {
   "display_name": "Python 3 (ipykernel)",
   "language": "python",
   "name": "python3"
  },
  "language_info": {
   "codemirror_mode": {
    "name": "ipython",
    "version": 3
   },
   "file_extension": ".py",
   "mimetype": "text/x-python",
   "name": "python",
   "nbconvert_exporter": "python",
   "pygments_lexer": "ipython3",
   "version": "3.10.9"
  }
 },
 "nbformat": 4,
 "nbformat_minor": 5
}
